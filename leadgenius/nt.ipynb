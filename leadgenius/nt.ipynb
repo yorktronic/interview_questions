{
 "cells": [
  {
   "cell_type": "code",
   "execution_count": 6,
   "metadata": {
    "collapsed": false
   },
   "outputs": [],
   "source": [
    "tree = {0: [1],\n",
    "        1: [2, 3], \n",
    "        2: [4, None],\n",
    "        3: [5, 6],\n",
    "        4: [7, None],\n",
    "        5: [None, None],\n",
    "        6: [None, None],\n",
    "        7: [8,9],\n",
    "        8: [None, None],\n",
    "        9: [None, None]}"
   ]
  },
  {
   "cell_type": "code",
   "execution_count": 7,
   "metadata": {
    "collapsed": false
   },
   "outputs": [
    {
     "data": {
      "text/plain": [
       "{0: [1],\n",
       " 1: [2, 3],\n",
       " 2: [4, None],\n",
       " 3: [5, 6],\n",
       " 4: [7, None],\n",
       " 5: [None, None],\n",
       " 6: [None, None],\n",
       " 7: [8, 9],\n",
       " 8: [None, None],\n",
       " 9: [None, None]}"
      ]
     },
     "execution_count": 7,
     "metadata": {},
     "output_type": "execute_result"
    }
   ],
   "source": [
    "tree"
   ]
  },
  {
   "cell_type": "code",
   "execution_count": 45,
   "metadata": {
    "collapsed": true
   },
   "outputs": [],
   "source": [
    "def print_tree(tree, levels):\n",
    "    if not levels:\n",
    "        return\n",
    "    children = []\n",
    "    print levels\n",
    "    for level in levels:\n",
    "        if not level:\n",
    "            continue\n",
    "        leaf = tree[level]\n",
    "        for item in leaf:\n",
    "            if item != None:\n",
    "                children.append(item)\n",
    "    print_tree(tree, children)"
   ]
  },
  {
   "cell_type": "code",
   "execution_count": 46,
   "metadata": {
    "collapsed": false
   },
   "outputs": [
    {
     "name": "stdout",
     "output_type": "stream",
     "text": [
      "[1]\n",
      "[2, 3]\n",
      "[4, 5, 6]\n",
      "[7]\n",
      "[8, 9]\n"
     ]
    }
   ],
   "source": [
    "print_tree(tree, [1])"
   ]
  },
  {
   "cell_type": "code",
   "execution_count": 21,
   "metadata": {
    "collapsed": false
   },
   "outputs": [
    {
     "data": {
      "text/plain": [
       "10"
      ]
     },
     "execution_count": 21,
     "metadata": {},
     "output_type": "execute_result"
    }
   ],
   "source": [
    " g = lambda x: x**2"
   ]
  }
 ],
 "metadata": {
  "kernelspec": {
   "display_name": "Python 2",
   "language": "python",
   "name": "python2"
  },
  "language_info": {
   "codemirror_mode": {
    "name": "ipython",
    "version": 2
   },
   "file_extension": ".py",
   "mimetype": "text/x-python",
   "name": "python",
   "nbconvert_exporter": "python",
   "pygments_lexer": "ipython2",
   "version": "2.7.10"
  }
 },
 "nbformat": 4,
 "nbformat_minor": 1
}
